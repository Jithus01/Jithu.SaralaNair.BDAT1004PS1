{
 "cells": [
  {
   "cell_type": "markdown",
   "id": "fcfad638",
   "metadata": {},
   "source": [
    "  ### Question 1"
   ]
  },
  {
   "cell_type": "code",
   "execution_count": 1,
   "id": "afd58e1f",
   "metadata": {},
   "outputs": [
    {
     "name": "stdout",
     "output_type": "stream",
     "text": [
      "data type of a is <class 'int'>\n",
      "data type of b is <class 'float'>\n",
      "data type of c is <class 'bool'>\n",
      "data type of d is <class 'str'>\n",
      "data type of e is <class 'int'>\n",
      "data type of f is <class 'str'>\n",
      "data type of g is <class 'str'>\n",
      "data type of h is <class 'float'>\n",
      "data type of i is <class 'int'>\n",
      "data type of j is <class 'set'>\n",
      "data type of k is <class 'bool'>\n",
      " data type of l is <class 'float'>\n"
     ]
    }
   ],
   "source": [
    "a = 5\n",
    "print(\"data type of a is\",type(a))\n",
    "b = 5.0\n",
    "print(\"data type of b is\",type(b))\n",
    "c = 5>1\n",
    "print(\"data type of c is\",type(c))\n",
    "d = '5'\n",
    "print(\"data type of d is\",type(d))\n",
    "e = 5 * 2\n",
    "print(\"data type of e is\",type(e))\n",
    "f = '5' * 2\n",
    "print(\"data type of f is\",type(f))\n",
    "g = '5' + '2'\n",
    "print(\"data type of g is\",type(g))\n",
    "h = 5 / 2\n",
    "print(\"data type of h is\",type(h))\n",
    "i = 5 % 2\n",
    "print(\"data type of i is\",type(i))\n",
    "j = {5,2,1}\n",
    "print(\"data type of j is\",type(j))\n",
    "k = 5==3\n",
    "print(\"data type of k is\",type(k))\n",
    "import math  # importing library to implement math function\n",
    "l = math.pi\n",
    "print(\" data type of l is\",type(l))"
   ]
  },
  {
   "cell_type": "markdown",
   "id": "ba74275a",
   "metadata": {},
   "source": [
    "### Question 2"
   ]
  },
  {
   "cell_type": "markdown",
   "id": "7ea848ed",
   "metadata": {},
   "source": [
    "### a)How many letters are there in 'Supercalifragilisticexpialidocious'?"
   ]
  },
  {
   "cell_type": "code",
   "execution_count": 2,
   "id": "7cfe3c8b",
   "metadata": {},
   "outputs": [
    {
     "name": "stdout",
     "output_type": "stream",
     "text": [
      "Number of letters: 34\n"
     ]
    }
   ],
   "source": [
    "word_1 = 'Supercalifragilisticexpialidocious'\n",
    "num_letters = len(word_1)\n",
    "print(\"Number of letters:\",num_letters)\n"
   ]
  },
  {
   "cell_type": "markdown",
   "id": "4e8a82e1",
   "metadata": {},
   "source": [
    "### b)Does 'Supercalifragilisticexpialidocious' contain 'ice' as a substring?"
   ]
  },
  {
   "cell_type": "code",
   "execution_count": 3,
   "id": "20ef0e20",
   "metadata": {},
   "outputs": [
    {
     "name": "stdout",
     "output_type": "stream",
     "text": [
      "Does 'Supercalifragilisticexpialidocious' contain 'ice'? True\n"
     ]
    }
   ],
   "source": [
    "word = 'Supercalifragilisticexpialidocious'\n",
    "substring = 'ice'\n",
    "\n",
    "print(f\"Does '{word}' contain '{substring}'? {'ice' in word}\")\n"
   ]
  },
  {
   "cell_type": "markdown",
   "id": "7a39ca44",
   "metadata": {},
   "source": [
    "### c)Which of the following words is the longest: Supercalifragilisticexpialidocious, Honorificabilitudinitatibus, or Bababadalgharaghtakamminarronnkonn?"
   ]
  },
  {
   "cell_type": "code",
   "execution_count": 4,
   "id": "a562b52c",
   "metadata": {},
   "outputs": [
    {
     "name": "stdout",
     "output_type": "stream",
     "text": [
      "Supercalifragilisticexpialidocious\n"
     ]
    }
   ],
   "source": [
    "word1 = 'Supercalifragilisticexpialidocious'\n",
    "word2 = 'Honorificabilitudinitatibus'\n",
    "word3 = 'Bababadalgharaghtakamminarronnkonn'\n",
    "\n",
    "longest_word = max(word1, word2, word3, key=len)\n",
    "print(longest_word)"
   ]
  },
  {
   "cell_type": "markdown",
   "id": "ae7ebd8a",
   "metadata": {},
   "source": [
    "### d)Which composer comes first in the dictionary: 'Berlioz', 'Borodin', 'Brian','Bartok', 'Bellini', 'Buxtehude', 'Bernstein'. Which one comes last?"
   ]
  },
  {
   "cell_type": "code",
   "execution_count": 5,
   "id": "011c4e35",
   "metadata": {},
   "outputs": [
    {
     "name": "stdout",
     "output_type": "stream",
     "text": [
      "Composer that comes first is: Bartok\n",
      "Composer that comes last is: Buxtehude\n"
     ]
    }
   ],
   "source": [
    "composers = [\n",
    "    \"Berlioz\", \"Borodin\", \"Brian\", \"Bartok\", \"Bellini\", \"Buxtehude\", \"Bernstein\"\n",
    "]\n",
    "\n",
    "composers.sort()\n",
    "first_composer = composers[0]\n",
    "last_composer = composers[6]\n",
    "\n",
    "print(\"Composer that comes first is:\", first_composer)\n",
    "print(\"Composer that comes last is:\", last_composer)\n"
   ]
  },
  {
   "cell_type": "markdown",
   "id": "41f44d13",
   "metadata": {},
   "source": [
    "### Question 3"
   ]
  },
  {
   "cell_type": "markdown",
   "id": "ec0cb180",
   "metadata": {},
   "source": [
    "### Implement function triangleArea(a,b,c) that takes as input the lengths of the 3 sides of a triangle and returns the area of the triangle. By Heron's formula, the area of a triangle with side lengths a, b, and c is (s - a)(s - b)(s - c) , wheres = (a + b + c)/2\n"
   ]
  },
  {
   "cell_type": "code",
   "execution_count": 6,
   "id": "f94c1fb8",
   "metadata": {},
   "outputs": [
    {
     "name": "stdout",
     "output_type": "stream",
     "text": [
      "Area of the triangle: 1.7320508075688772\n"
     ]
    }
   ],
   "source": [
    "def triangle_area(a, b, c):\n",
    "    # Calculate semi-perimeter\n",
    "    s = (a + b + c) / 2\n",
    "    \n",
    "    # Heron's formula for area\n",
    "    area = (s * (s - a) * (s - b) * (s - c)) ** 0.5\n",
    "    \n",
    "    return area\n",
    "\n",
    "a = 2\n",
    "b = 2\n",
    "c = 2\n",
    "print(\"Area of the triangle:\", triangle_area(a, b, c))\n"
   ]
  },
  {
   "cell_type": "markdown",
   "id": "2745f232",
   "metadata": {},
   "source": [
    "### Question 4"
   ]
  },
  {
   "cell_type": "markdown",
   "id": "a1c1a776",
   "metadata": {},
   "source": [
    "### Write a program in python to separate odd and even integers in separate arrays. Go to the editor\n",
    "### Test Data :\n",
    "### Input the number of elements to be stored in the array :5\n",
    "### Input 5 elements in the array :\n",
    "### element - 0 : 25\n",
    "### element - 1 : 47\n",
    "### element - 2 : 42\n",
    "### element - 3 : 56\n",
    "### element - 4 : 32"
   ]
  },
  {
   "cell_type": "code",
   "execution_count": 7,
   "id": "909cb68a",
   "metadata": {},
   "outputs": [
    {
     "name": "stdout",
     "output_type": "stream",
     "text": [
      "Odd numbers: [25, 47]\n",
      "Even numbers: [42, 56, 32]\n"
     ]
    }
   ],
   "source": [
    "def separate_odd_even(numbers):\n",
    "    odd_numbers = []\n",
    "    even_numbers = []\n",
    "    \n",
    "    for num in numbers:\n",
    "        if num % 2 == 0:\n",
    "            even_numbers.append(num)\n",
    "        else:\n",
    "            odd_numbers.append(num)\n",
    "    \n",
    "    return odd_numbers, even_numbers\n",
    "\n",
    "elements = [25, 47, 42, 56, 32]\n",
    "\n",
    "odd, even = separate_odd_even(elements)\n",
    "\n",
    "print(\"Odd numbers:\", odd)\n",
    "print(\"Even numbers:\", even)\n"
   ]
  },
  {
   "cell_type": "markdown",
   "id": "8f0024eb",
   "metadata": {},
   "source": [
    "### Question 5"
   ]
  },
  {
   "cell_type": "markdown",
   "id": "da0148e4",
   "metadata": {},
   "source": [
    "### a. Write a function inside(x,y,x1,y1,x2,y2) that returns True or False depending on whether the point (x,y) lies in the rectangle with lower left corner (x1,y1) and upper right corner (x2,y2)."
   ]
  },
  {
   "cell_type": "code",
   "execution_count": 8,
   "id": "758e1a21",
   "metadata": {},
   "outputs": [
    {
     "name": "stdout",
     "output_type": "stream",
     "text": [
      "For points (1,1)\n",
      "True\n",
      "For points (-1,-1)\n",
      "False\n"
     ]
    }
   ],
   "source": [
    "def inside(x, y, x1, y1, x2, y2):\n",
    "    return x1 <= x <= x2 and y1 <= y <= y2\n",
    "\n",
    "x = 1\n",
    "y = 1\n",
    "x1 = 0\n",
    "y1 = 0\n",
    "x2 = 2\n",
    "y2 = 3\n",
    "a=-1\n",
    "b=-1\n",
    "print(\"For points (1,1)\")\n",
    "print(inside(x, y, x1, y1, x2, y2))\n",
    "print(\"For points (-1,-1)\")\n",
    "print(inside(a, b, x1, y1, x2, y2))"
   ]
  },
  {
   "cell_type": "markdown",
   "id": "07e2785d",
   "metadata": {},
   "source": [
    "### b. Use function inside() from part a. to write an expression that tests whether the point (1,1) lies in both of the following rectangles: one with lower left corner (0.3, 0.5) and upper right corner (1.1, 0.7) and the other with lower left corner (0.5, 0.2) and upper right corner (1.1, 2)."
   ]
  },
  {
   "cell_type": "code",
   "execution_count": 9,
   "id": "4ad64657",
   "metadata": {},
   "outputs": [
    {
     "name": "stdout",
     "output_type": "stream",
     "text": [
      "For the first rectangle\n",
      "False\n",
      "For the second rectangle\n",
      "True\n"
     ]
    }
   ],
   "source": [
    "def inside(x, y, x1, y1, x2, y2):\n",
    "    return x1 <= x <= x2 and y1 <= y <= y2\n",
    "\n",
    "x = 1\n",
    "y = 1\n",
    "x1 = 0.3\n",
    "y1 = 0.5\n",
    "x2 = 1.1\n",
    "y2 = 0.7\n",
    "a1=0.5\n",
    "b1=0.2\n",
    "a2=1.1\n",
    "b2=2\n",
    "print(\"For the first rectangle\")\n",
    "print(inside(x, y, x1, y1, x2, y2)) \n",
    "print(\"For the second rectangle\")\n",
    "print(inside(x, y, a1, b1, a2, b2)) \n"
   ]
  },
  {
   "cell_type": "markdown",
   "id": "05fb4672",
   "metadata": {},
   "source": [
    "### Question 6"
   ]
  },
  {
   "cell_type": "markdown",
   "id": "88cc2cd3",
   "metadata": {},
   "source": [
    "### You can turn a word into pig-Latin using the following two rules (simplified):\n",
    "### • If the word starts with a consonant, move that letter to the end and append 'ay'.\n",
    "### • If the word starts with a vowel, simply append 'way' to the end of the word\n",
    "### Write a function pig() that takes a word (i.e., a string) as input and returns its pig- Latin form. Your function should still work if the input word contains upper case characters. Your output should always be lower case however."
   ]
  },
  {
   "cell_type": "code",
   "execution_count": 10,
   "id": "b7c4100a",
   "metadata": {},
   "outputs": [
    {
     "name": "stdout",
     "output_type": "stream",
     "text": [
      "appyhay\n",
      "enterway\n"
     ]
    }
   ],
   "source": [
    "def pig(word):\n",
    "    word = word.lower()\n",
    "\n",
    "    if word[0] in 'aeiou':\n",
    "        return word + 'way'\n",
    "    else:\n",
    "        return word[1:] + word[0] + 'ay'\n",
    "\n",
    "print(pig('happy')) \n",
    "print(pig('Enter'))\n"
   ]
  },
  {
   "cell_type": "markdown",
   "id": "2328e9d9",
   "metadata": {},
   "source": [
    "### Question 7"
   ]
  },
  {
   "cell_type": "markdown",
   "id": "9daecff2",
   "metadata": {},
   "source": [
    "### File bloodtype1.txt records blood-types of patients (A, B, AB, O or OO) at a clinic. Write a function bldcount() that reads the file with name name and reports (i.e., prints) how many patients there are in each bloodtype"
   ]
  },
  {
   "cell_type": "code",
   "execution_count": 11,
   "id": "c8a81f40",
   "metadata": {},
   "outputs": [
    {
     "name": "stdout",
     "output_type": "stream",
     "text": [
      "There are 15 patients of blood type A.\n",
      "There is 1 patient of blood type B.\n",
      "There are 13 patients of blood type AB.\n",
      "There are 15 patients of blood type O.\n",
      "There are no patients of blood type OO.\n"
     ]
    }
   ],
   "source": [
    "\n",
    "def bldcount(dataset):\n",
    "    blood_counts = {'A': 0, 'B': 0, 'AB': 0, 'O': 0, 'OO': 0}\n",
    "    try:\n",
    "        with open(dataset, 'r') as data:\n",
    "            contents = data.read()\n",
    "            blood_types = contents.split()\n",
    "            for blood_type in blood_types:\n",
    "                if blood_type in blood_counts:\n",
    "                    blood_counts[blood_type] += 1\n",
    "                else:\n",
    "                    print(f\"Unknown blood type '{blood_type}' found in the file.\")\n",
    "\n",
    "        for blood_type, count in blood_counts.items():\n",
    "            if count == 1:\n",
    "                print(f\"There is {count} patient of blood type {blood_type}.\")\n",
    "            elif count > 1:\n",
    "                print(f\"There are {count} patients of blood type {blood_type}.\")\n",
    "            else:\n",
    "                print(f\"There are no patients of blood type {blood_type}.\")\n",
    "    except FileNotFoundError:\n",
    "        print(\"File not found.\")\n",
    "    except Exception as e:\n",
    "        print(\"An error occurred:\", e)\n",
    " \n",
    "bldcount('bloodtype1.txt')\n"
   ]
  },
  {
   "cell_type": "markdown",
   "id": "231fd0c6",
   "metadata": {},
   "source": [
    "### Question 8"
   ]
  },
  {
   "cell_type": "markdown",
   "id": "d04ff667",
   "metadata": {},
   "source": [
    "### Write a function curconv() that takes as input:\n",
    "### 1.currency represented using a string (e.g., 'JPY' for the Japanese Yen or 'EUR' for the Euro)\n",
    "### 2. an amount and then converts and returns the amount in US dollars"
   ]
  },
  {
   "cell_type": "code",
   "execution_count": 12,
   "id": "a1e92769",
   "metadata": {},
   "outputs": [
    {
     "name": "stdout",
     "output_type": "stream",
     "text": [
      "Enter the currency code: INR\n",
      "Enter the amount: 1000\n",
      "17.7643\n",
      "Enter the currency code: GBP\n",
      "Enter the amount: 1000\n",
      "1555.0989\n"
     ]
    }
   ],
   "source": [
    "def curconv():\n",
    "    try:\n",
    "        with open('currencies.txt', 'r') as file:\n",
    "            lines = file.readlines()\n",
    "\n",
    "        currency_rates = {}\n",
    "\n",
    "        for line in lines:\n",
    "            parts = line.split()\n",
    "            code = parts[0]\n",
    "            rate = float(parts[1])\n",
    "            currency_rates[code] = rate\n",
    "\n",
    "        currency = input(\"Enter the currency code: \").upper()\n",
    "        amount = float(input(\"Enter the amount: \"))\n",
    "\n",
    "        if currency in currency_rates:\n",
    "            usd_amount = amount * currency_rates[currency]\n",
    "            return usd_amount\n",
    "        else:\n",
    "            print(f\"Currency '{currency}' is not found in the file.\")\n",
    "            return None\n",
    "\n",
    "    except FileNotFoundError:\n",
    "        print(\"Currency file 'currencies.txt' not found.\")\n",
    "        return None\n",
    "    except Exception as e:\n",
    "        print(\"An error occurred:\", e)\n",
    "        return None\n",
    "\n",
    "print(curconv())\n",
    "print(curconv())\n"
   ]
  },
  {
   "cell_type": "markdown",
   "id": "6b3175fb",
   "metadata": {},
   "source": [
    "### Question 9"
   ]
  },
  {
   "cell_type": "markdown",
   "id": "54a64557",
   "metadata": {},
   "source": [
    "### Each of the following will cause an exception (an error). Identify what type of exception each will cause.\n"
   ]
  },
  {
   "cell_type": "markdown",
   "id": "f415ad57",
   "metadata": {},
   "source": [
    "### Scenario 1. Trying to add incompatible variables, as in adding 6 + ‘a’\n",
    "### Scenario 2. Referring to the 12th item of a list that has only 10 items\n",
    "### Scenario 3. Using a value that is out of range for a function’s input, such as calling math.sqrt(-1.0)\n",
    "### Scenario 4. Using an undeclared variable, such as print(x) when x has not been defined\n",
    "### Scenario 5. Trying to open a file that does not exist, such as mistyping the file name or looking in the wrong directory.\n",
    "\n"
   ]
  },
  {
   "cell_type": "code",
   "execution_count": 13,
   "id": "17ba7a24",
   "metadata": {},
   "outputs": [
    {
     "name": "stdout",
     "output_type": "stream",
     "text": [
      "Scenario 1: unsupported operand type(s) for +: 'int' and 'str'\n",
      "Scenario 2: list index out of range\n",
      "Scenario 3: math domain error\n",
      "Scenario 4: name 'X' is not defined\n",
      "Scenario 5: [Errno 2] No such file or directory: 'non_existent_file.txt'\n"
     ]
    }
   ],
   "source": [
    "import math \n",
    "\n",
    "try:\n",
    "    result = 6 + 'a'\n",
    "except TypeError as e:\n",
    "    print(f\"Scenario 1: {e}\")\n",
    "\n",
    "\n",
    "try:\n",
    "    my_list = [1, 2, 3, 4, 5, 6, 7, 8, 9, 10]\n",
    "    item = my_list[12]\n",
    "except IndexError as e:\n",
    "    print(f\"Scenario 2: {e}\")\n",
    "\n",
    "\n",
    "try:\n",
    "    result = math.sqrt(-1.0)\n",
    "except ValueError as e:\n",
    "    print(f\"Scenario 3: {e}\")\n",
    "\n",
    "\n",
    "try:\n",
    "    print(X)\n",
    "except NameError as e:\n",
    "    print(f\"Scenario 4: {e}\")\n",
    "\n",
    "try:\n",
    "    with open('non_existent_file.txt', 'r') as file:\n",
    "        content = file.read()\n",
    "except FileNotFoundError as e:\n",
    "    print(f\"Scenario 5: {e}\")"
   ]
  },
  {
   "cell_type": "markdown",
   "id": "01f9607b",
   "metadata": {},
   "source": [
    "In Scenario 1, TypeError is encountered because of an attempt to perform operations on incompatible datatypes,which is integers and strings. In scenario 2, accessing an index that exceeds the list bounds causes IndexError.Then,in Scenario 3, a ValueError occurs when attempting to calculate the square root of a negative number,which is a mathematically invalid operation. By referencing an uninitialized variable, in scenario 4, causes a NameError. Lastly, Scenario 5 raises a FileNotFoundError when trying to open a nonexistent file. "
   ]
  },
  {
   "cell_type": "markdown",
   "id": "13e3a3c1",
   "metadata": {},
   "source": [
    "### Question 10\n"
   ]
  },
  {
   "cell_type": "markdown",
   "id": "a56501f1",
   "metadata": {},
   "source": [
    "### Write a function called frequencies() that takes a string as its only parameter, and returns a list of integers, showing the number of times each character appears in the text. Your function may ignore any characters that are not in letters."
   ]
  },
  {
   "cell_type": "code",
   "execution_count": 14,
   "id": "27607372",
   "metadata": {},
   "outputs": [
    {
     "name": "stdout",
     "output_type": "stream",
     "text": [
      "The quick red fox got bored and went home - [1, 1, 1, 3, 5, 1, 1, 2, 1, 0, 1, 0, 1, 2, 4, 0, 1, 2, 0, 2, 1, 0, 1, 1, 0, 0]\n",
      "apple - [1, 0, 0, 0, 1, 0, 0, 0, 0, 0, 0, 1, 0, 0, 0, 2, 0, 0, 0, 0, 0, 0, 0, 0, 0, 0]\n"
     ]
    }
   ],
   "source": [
    "def frequencies(text):\n",
    "    letters = 'abcdefghijklmnopqrstuvwxyz'\n",
    "    counts = [0] * len(letters)\n",
    "    for char in text:\n",
    "        if char in letters:\n",
    "            counts[letters.index(char)] += 1\n",
    "    return counts\n",
    "print(\"The quick red fox got bored and went home -\",frequencies('The quick red fox got bored and went home.'))\n",
    "print(\"apple -\",frequencies('apple'))"
   ]
  },
  {
   "cell_type": "code",
   "execution_count": null,
   "id": "12657d6a",
   "metadata": {},
   "outputs": [],
   "source": []
  }
 ],
 "metadata": {
  "kernelspec": {
   "display_name": "Python 3 (ipykernel)",
   "language": "python",
   "name": "python3"
  },
  "language_info": {
   "codemirror_mode": {
    "name": "ipython",
    "version": 3
   },
   "file_extension": ".py",
   "mimetype": "text/x-python",
   "name": "python",
   "nbconvert_exporter": "python",
   "pygments_lexer": "ipython3",
   "version": "3.10.9"
  }
 },
 "nbformat": 4,
 "nbformat_minor": 5
}
